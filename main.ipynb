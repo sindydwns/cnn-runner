{
 "cells": [
  {
   "cell_type": "code",
   "execution_count": null,
   "metadata": {},
   "outputs": [],
   "source": [
    "# load dataset\n",
    "from p_efficientnet_b7_1000 import define\n",
    "from torchvision.datasets import ImageFolder\n",
    "from torch.utils.data.dataloader import DataLoader\n",
    "\n",
    "transforms = define.transform()\n",
    "\n",
    "train_data = ImageFolder(f\"{define.get_datafolder()}/train\", transform=transforms)\n",
    "test_data = ImageFolder(f\"{define.get_datafolder()}/test\", transform=transforms)\n",
    "\n",
    "train_loader = DataLoader(train_data, batch_size=20, shuffle=True)\n",
    "test_loader = DataLoader(test_data, batch_size=20, shuffle=True)"
   ]
  },
  {
   "cell_type": "code",
   "execution_count": null,
   "metadata": {},
   "outputs": [],
   "source": [
    "# define model\n",
    "model = define.create_model()\n",
    "model_desc = define.model_desc()\n",
    "model_directory_name = define.__file__.replace(\"\\\\\", \"/\").split(\"/\")[-2]"
   ]
  },
  {
   "cell_type": "code",
   "execution_count": null,
   "metadata": {},
   "outputs": [],
   "source": [
    "# set parameters\n",
    "from torch import nn\n",
    "import torch\n",
    "\n",
    "\n",
    "load_model_path = None # None: `model_directory_name`에서 마지막으로 저장된 .pth 로드\n",
    "save_model_path = None # None: `model_directory_name`에 자동생성된 이름으로 저장\n",
    "memo = \"\""
   ]
  },
  {
   "cell_type": "code",
   "execution_count": null,
   "metadata": {},
   "outputs": [],
   "source": [
    "# create runner\n",
    "import util\n",
    "\n",
    "runner = util.Runner(model, default_dir=model_directory_name)\n",
    "print(f\"runner use {runner.device}\")\n",
    "runner.load(load_model_path)"
   ]
  },
  {
   "cell_type": "code",
   "execution_count": null,
   "metadata": {},
   "outputs": [],
   "source": [
    "# start train & test\n",
    "class CustomSchedule(util.Schedule):\n",
    "    def __init__(self) -> None:\n",
    "        self.learning_rate = 0.001\n",
    "        self.min_loss = 99999999\n",
    "\n",
    "    def on_event_start(self, runner: util.Runner):\n",
    "        if runner.loaded_lr != 0:\n",
    "            self.learning_rate = runner.loaded_lr\n",
    "        runner.criterion = nn.CrossEntropyLoss()\n",
    "        runner.optimizer = torch.optim.Adam(model.parameters(), lr=self.learning_rate)\n",
    "        # self.scheduler = torch.optim.lr_scheduler.StepLR(runner.optimizer, step_size=20, gamma=0.1)\n",
    "        self.scheduler = torch.optim.lr_scheduler.ReduceLROnPlateau(\n",
    "            runner.optimizer,\n",
    "            mode='min',\n",
    "            factor=0.5,\n",
    "            patience=5)\n",
    "        \n",
    "    def is_end(self, runner: util.Runner) -> bool:\n",
    "        if runner.counter == 100:\n",
    "            return True\n",
    "        return self.scheduler.get_last_lr()[-1] < 0.00000001\n",
    "\n",
    "    def on_event_end_epoch(self, runner: util.Runner):\n",
    "        val_loss = runner.learn[-1][\"val_loss\"]\n",
    "        if val_loss < self.min_loss and runner.counter > 10:\n",
    "            self.min_loss = val_loss\n",
    "            runner.save()\n",
    "        self.scheduler.step(val_loss)\n",
    "        print(f\"lr: {self.scheduler.get_last_lr()[-1]}\")\n",
    "    \n",
    "    def get_record(self, runner) -> dict:\n",
    "        return { \"lr\": self.scheduler.get_last_lr()[-1] }\n",
    "        \n",
    "\n",
    "schedule = CustomSchedule()\n",
    "runner.run(train_loader, test_loader, schedule, record={\n",
    "    \"model\": model_desc,\n",
    "    \"memo\": memo,\n",
    "})"
   ]
  },
  {
   "cell_type": "code",
   "execution_count": null,
   "metadata": {},
   "outputs": [],
   "source": [
    "# save model\n",
    "runner.save()"
   ]
  }
 ],
 "metadata": {
  "kernelspec": {
   "display_name": "deep",
   "language": "python",
   "name": "python3"
  },
  "language_info": {
   "codemirror_mode": {
    "name": "ipython",
    "version": 3
   },
   "file_extension": ".py",
   "mimetype": "text/x-python",
   "name": "python",
   "nbconvert_exporter": "python",
   "pygments_lexer": "ipython3",
   "version": "3.12.4"
  }
 },
 "nbformat": 4,
 "nbformat_minor": 2
}
