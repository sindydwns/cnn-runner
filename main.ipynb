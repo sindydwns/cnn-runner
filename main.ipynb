{
 "cells": [
  {
   "cell_type": "code",
   "execution_count": 1,
   "metadata": {},
   "outputs": [],
   "source": [
    "# load dataset\n",
    "from p_resnet_5000 import define\n",
    "from torchvision.datasets import ImageFolder\n",
    "from torch.utils.data.dataloader import DataLoader\n",
    "\n",
    "transforms = define.transform()\n",
    "\n",
    "train_data = ImageFolder(f\"{define.get_datafolder()}/train\", transform=transforms)\n",
    "test_data = ImageFolder(f\"{define.get_datafolder()}/test\", transform=transforms)\n",
    "\n",
    "train_loader = DataLoader(train_data, batch_size=20, shuffle=True)\n",
    "test_loader = DataLoader(test_data, batch_size=20, shuffle=True)"
   ]
  },
  {
   "cell_type": "code",
   "execution_count": 2,
   "metadata": {},
   "outputs": [],
   "source": [
    "# define model\n",
    "model = define.create_model()\n",
    "model_desc = define.model_desc()\n",
    "model_directory_name = define.__file__.replace(\"\\\\\", \"/\").split(\"/\")[-2]"
   ]
  },
  {
   "cell_type": "code",
   "execution_count": 3,
   "metadata": {},
   "outputs": [],
   "source": [
    "# set parameters\n",
    "from torch import nn\n",
    "import torch\n",
    "\n",
    "learning_rate = 0.00001\n",
    "criterion = nn.CrossEntropyLoss()\n",
    "optimizer = torch.optim.Adam(model.parameters(), lr=learning_rate)\n",
    "epoch = 100\n",
    "load_model_path = None # None: `model_directory_name`에서 마지막으로 저장된 .pth 로드\n",
    "save_model_path = None # None: `model_directory_name`에 자동생성된 이름으로 저장\n",
    "memo = \"\""
   ]
  },
  {
   "cell_type": "code",
   "execution_count": 4,
   "metadata": {},
   "outputs": [
    {
     "name": "stdout",
     "output_type": "stream",
     "text": [
      "runner use cuda\n",
      "no saved file\n"
     ]
    }
   ],
   "source": [
    "# create runner\n",
    "import util\n",
    "\n",
    "runner = util.Runner(model, default_dir=model_directory_name)\n",
    "print(f\"runner use {runner.device}\")\n",
    "runner.load(load_model_path)"
   ]
  },
  {
   "cell_type": "code",
   "execution_count": 5,
   "metadata": {},
   "outputs": [
    {
     "name": "stderr",
     "output_type": "stream",
     "text": [
      "100%|██████████| 200/200 [00:52<00:00,  3.78it/s]\n",
      "100%|██████████| 50/50 [00:05<00:00,  9.86it/s]\n"
     ]
    },
    {
     "name": "stdout",
     "output_type": "stream",
     "text": [
      "epoch: 1; loss: 1.473; acc: 0.707\n"
     ]
    },
    {
     "name": "stderr",
     "output_type": "stream",
     "text": [
      " 67%|██████▋   | 134/200 [00:35<00:17,  3.68it/s]"
     ]
    }
   ],
   "source": [
    "# start train & test\n",
    "runner.run(criterion, optimizer, train_loader, test_loader, epoch, record={\n",
    "    \"model\": model_desc,\n",
    "    \"lr\": learning_rate,\n",
    "    \"memo\": memo,\n",
    "})"
   ]
  },
  {
   "cell_type": "code",
   "execution_count": null,
   "metadata": {},
   "outputs": [],
   "source": [
    "# save model\n",
    "runner.save()"
   ]
  }
 ],
 "metadata": {
  "kernelspec": {
   "display_name": "deep",
   "language": "python",
   "name": "python3"
  },
  "language_info": {
   "codemirror_mode": {
    "name": "ipython",
    "version": 3
   },
   "file_extension": ".py",
   "mimetype": "text/x-python",
   "name": "python",
   "nbconvert_exporter": "python",
   "pygments_lexer": "ipython3",
   "version": "3.12.4"
  }
 },
 "nbformat": 4,
 "nbformat_minor": 2
}
