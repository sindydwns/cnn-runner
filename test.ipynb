{
 "cells": [
  {
   "cell_type": "code",
   "execution_count": null,
   "metadata": {},
   "outputs": [],
   "source": [
    "# load dataset\n",
    "from p_efficientnet_b7_v1 import define\n",
    "from torchvision.datasets import ImageFolder\n",
    "from torch.utils.data.dataloader import DataLoader\n",
    "\n",
    "transforms = define.transform()\n",
    "\n",
    "train_data = ImageFolder(\"./dataset/train\", transform=transforms)\n",
    "test_data = ImageFolder(\"./dataset/test\", transform=transforms)\n",
    "\n",
    "train_loader = DataLoader(train_data, batch_size=8, shuffle=True)\n",
    "test_loader = DataLoader(test_data, batch_size=8, shuffle=True)"
   ]
  },
  {
   "cell_type": "code",
   "execution_count": null,
   "metadata": {},
   "outputs": [],
   "source": [
    "# define model\n",
    "model = define.create_model()\n",
    "model_desc = define.model_desc()\n",
    "model_directory_name = define.__file__.replace(\"\\\\\", \"/\").split(\"/\")[-2]"
   ]
  },
  {
   "cell_type": "code",
   "execution_count": null,
   "metadata": {},
   "outputs": [],
   "source": [
    "# create runner\n",
    "import util\n",
    "\n",
    "runner = util.Runner(model, default_dir=model_directory_name)\n",
    "print(f\"runner use {runner.device}\")\n",
    "runner.load(None) # load latest model"
   ]
  },
  {
   "cell_type": "markdown",
   "metadata": {},
   "source": []
  },
  {
   "cell_type": "code",
   "execution_count": null,
   "metadata": {},
   "outputs": [],
   "source": [
    "import util\n",
    "\n",
    "img, label = next(iter(train_loader))\n",
    "labels = [ train_data.classes[x] for x in label]\n",
    "\n",
    "def func(data, target, result):\n",
    "    data = data.to('cpu')\n",
    "    corr = [ test_data.classes[x] for x in target ]\n",
    "    pred = [ test_data.classes[x] for x in result ]\n",
    "    title = f\"corr: {' * '.join(corr)}\\npred: {' * '.join(pred)}\"\n",
    "    util.show2(data, title)\n",
    "runner.test(test_loader, func)"
   ]
  }
 ],
 "metadata": {
  "kernelspec": {
   "display_name": "deep",
   "language": "python",
   "name": "python3"
  },
  "language_info": {
   "codemirror_mode": {
    "name": "ipython",
    "version": 3
   },
   "file_extension": ".py",
   "mimetype": "text/x-python",
   "name": "python",
   "nbconvert_exporter": "python",
   "pygments_lexer": "ipython3",
   "version": "3.12.4"
  }
 },
 "nbformat": 4,
 "nbformat_minor": 2
}
