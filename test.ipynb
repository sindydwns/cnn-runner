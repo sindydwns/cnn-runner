{
 "cells": [
  {
   "cell_type": "code",
   "execution_count": null,
   "metadata": {},
   "outputs": [],
   "source": [
    "# load dataset\n",
    "from p_efficientnet_b7_500_new import define\n",
    "from torchvision.datasets import ImageFolder\n",
    "from torch.utils.data.dataloader import DataLoader\n",
    "\n",
    "transforms = define.transform()\n",
    "\n",
    "test_data = ImageFolder(f\"{define.get_datafolder()}/test\", transform=transforms)\n",
    "test_loader = DataLoader(test_data, batch_size=8, shuffle=True)"
   ]
  },
  {
   "cell_type": "code",
   "execution_count": null,
   "metadata": {},
   "outputs": [],
   "source": [
    "# define model\n",
    "model = define.create_model()\n",
    "model_desc = define.model_desc()\n",
    "model_directory_name = define.__file__.replace(\"\\\\\", \"/\").split(\"/\")[-2]"
   ]
  },
  {
   "cell_type": "code",
   "execution_count": null,
   "metadata": {},
   "outputs": [],
   "source": [
    "# create runner\n",
    "import util\n",
    "\n",
    "runner = util.Runner(model, default_dir=model_directory_name)\n",
    "print(f\"runner use {runner.device}\")\n",
    "runner.load(\"p_efficientnet_b7_1000/m_0726_17154578038021.pth\") # load latest model"
   ]
  },
  {
   "cell_type": "code",
   "execution_count": null,
   "metadata": {},
   "outputs": [],
   "source": [
    "import seaborn as sns\n",
    "import matplotlib.pyplot as plt\n",
    "from sklearn.metrics import confusion_matrix\n",
    "import torch\n",
    "from torch import nn\n",
    "\n",
    "targets = []\n",
    "results = []\n",
    "def func(data, target, result):\n",
    "    global targets, results\n",
    "    targets.append(target)\n",
    "    results.append(result)\n",
    "criterion = nn.CrossEntropyLoss() \n",
    "runner.test(test_loader, criterion, func)\n",
    "targets = torch.cat(targets, dim=0)\n",
    "results = torch.cat(results, dim=0)\n",
    "\n",
    "conf_matrix = confusion_matrix(results.to('cpu'), targets.to('cpu'))\n",
    "\n",
    "plt.figure(figsize=(10,10))\n",
    "sns.heatmap(conf_matrix, annot=True, fmt='d')\n",
    "plt.xlabel('Predicted')\n",
    "plt.ylabel('Atual')\n",
    "plt.show()"
   ]
  },
  {
   "cell_type": "code",
   "execution_count": null,
   "metadata": {},
   "outputs": [],
   "source": [
    "import util\n",
    "\n",
    "def func(data, target, result):\n",
    "    data = data.to('cpu')\n",
    "    corr = [ test_data.classes[x] for x in target ]\n",
    "    pred = [ test_data.classes[x] for x in result ]\n",
    "    title = f\"corr: {' * '.join(corr)}\\npred: {' * '.join(pred)}\"\n",
    "    util.show2(data, title)\n",
    "runner.test(test_loader, criterion, func)"
   ]
  }
 ],
 "metadata": {
  "kernelspec": {
   "display_name": "deep",
   "language": "python",
   "name": "python3"
  },
  "language_info": {
   "codemirror_mode": {
    "name": "ipython",
    "version": 3
   },
   "file_extension": ".py",
   "mimetype": "text/x-python",
   "name": "python",
   "nbconvert_exporter": "python",
   "pygments_lexer": "ipython3",
   "version": "3.12.4"
  }
 },
 "nbformat": 4,
 "nbformat_minor": 2
}
